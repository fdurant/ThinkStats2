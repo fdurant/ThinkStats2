{
 "metadata": {
  "name": "",
  "signature": "sha256:1ad9c13ec33f11e20fad4c0b81b7849b0b47e8aecbbbf6ec03619999a4140021"
 },
 "nbformat": 3,
 "nbformat_minor": 0,
 "worksheets": [
  {
   "cells": [
    {
     "cell_type": "heading",
     "level": 1,
     "metadata": {
      "slideshow": {
       "slide_type": "-"
      }
     },
     "source": [
      "Data Science Bootcamp - prework by Frederik Durant"
     ]
    },
    {
     "cell_type": "markdown",
     "metadata": {
      "slideshow": {
       "slide_type": "-"
      }
     },
     "source": [
      "Exercises from [Think Stats, 2nd edition](http://www.greenteapress.com/thinkstats2/)"
     ]
    },
    {
     "cell_type": "heading",
     "level": 3,
     "metadata": {},
     "source": [
      "Exercise 2.4"
     ]
    },
    {
     "cell_type": "markdown",
     "metadata": {
      "slideshow": {
       "slide_type": "-"
      }
     },
     "source": [
      "Using the variable *totalwgt_lb*, investigate whether first babies are lighter or heavier than others. Compute Cohen's *d* to quantify the difference between groups. How does it compare to the difference in pregnancy length?"
     ]
    },
    {
     "cell_type": "code",
     "collapsed": false,
     "input": [
      "%matplotlib inline"
     ],
     "language": "python",
     "metadata": {
      "slideshow": {
       "slide_type": "-"
      }
     },
     "outputs": [],
     "prompt_number": 11
    },
    {
     "cell_type": "code",
     "collapsed": false,
     "input": [
      "import nsfg\n",
      "import thinkstats2\n",
      "import thinkplot\n",
      "from math import floor, isnan\n",
      "import numpy as np\n",
      "\n",
      "# We restrict ourselves to live births\n",
      "preg = nsfg.ReadFemPreg()\n",
      "nsfg.CleanFemPreg(preg)\n",
      "live = preg[preg.outcome == 1]\n",
      "\n",
      "# Separate first births from other ones (second, third, ...)\n",
      "firsts = live[live.birthord == 1]\n",
      "others = live[live.birthord != 1]\n",
      "\n",
      "# Extract the relevant column and do some further cleaning:\n",
      "# - filter out NaN values\n",
      "# - round off all weights to the smaller integer pound value\n",
      "firsts_cleaned = [floor(f) for f in firsts['totalwgt_lb'] if not isnan(f)]\n",
      "others_cleaned = [floor(o) for o in others['totalwgt_lb'] if not isnan(o)]\n",
      "\n",
      "# Prepare histograms, rounding off to the smaller pound value and excluding NaN => on the fly data cleaning\n",
      "totalwgt_lb_first_hist = thinkstats2.Hist(firsts_cleaned)\n",
      "totalwgt_lb_other_hist = thinkstats2.Hist(others_cleaned)\n",
      "\n",
      "# Plot histograms on same axis\n",
      "width = 0.40\n",
      "xStepSize = 1\n",
      "xSmallest = min(totalwgt_lb_first_hist.Smallest(1)[0][0],totalwgt_lb_other_hist.Smallest(1)[0][0])\n",
      "xLargest = max(totalwgt_lb_first_hist.Largest(1)[0][0],totalwgt_lb_other_hist.Largest(1)[0][0])\n",
      "thinkplot.PrePlot(2)\n",
      "thinkplot.Hist(totalwgt_lb_first_hist, align='right', width=width, label='First')\n",
      "thinkplot.Hist(totalwgt_lb_other_hist, align='left', width=width, label='Other')\n",
      "thinkplot.Config(title='Total Weight',\n",
      "                 xlabel='Pounds (rounded)',\n",
      "                 ylabel='Frequency', \n",
      "                 xticks=np.arange(xSmallest,xLargest,1.0))"
     ],
     "language": "python",
     "metadata": {
      "slideshow": {
       "slide_type": "-"
      }
     },
     "outputs": [
      {
       "metadata": {},
       "output_type": "display_data",
       "png": "[encoded data removed]",
       "text": [
        "<matplotlib.figure.Figure at 0x10b612250>"
       ]
      }
     ],
     "prompt_number": 69
    },
    {
     "cell_type": "markdown",
     "metadata": {},
     "source": [
      "From the histogram above, we cannot conclude much, because of the different sample sizes:"
     ]
    },
    {
     "cell_type": "code",
     "collapsed": false,
     "input": [
      "print \"Sampled live births (after cleaning)\"\n",
      "print \"first: %d\" % len(firsts_cleaned)\n",
      "print \"other: %d\" % len(others_cleaned)"
     ],
     "language": "python",
     "metadata": {},
     "outputs": [
      {
       "output_type": "stream",
       "stream": "stdout",
       "text": [
        "Sampled live births (after cleaning)\n",
        "first: 4363\n",
        "other: 4675\n"
       ]
      }
     ],
     "prompt_number": 59
    },
    {
     "cell_type": "heading",
     "level": 4,
     "metadata": {},
     "source": [
      "Summary statistics"
     ]
    },
    {
     "cell_type": "code",
     "collapsed": false,
     "input": [
      "from IPython.display import HTML\n",
      "summary = \"\"\"\n",
      "<table>\n",
      "<tr>\n",
      "<td><b>Total Weight in Pounds</b></td>\n",
      "<td><b>Mean</b></td>\n",
      "<td><b>Standard Deviation</b></td>\n",
      "</tr>\n",
      "<tr>\n",
      "<td>First live births</td>\n",
      "<td>%1.2f</td>\n",
      "<td>%1.2f</td>\n",
      "</tr>\n",
      "<tr>\n",
      "<td>Other live births</td>\n",
      "<td>%1.2f</td>\n",
      "<td>%1.2f</td>\n",
      "</tr>\n",
      "<tr>\n",
      "<td><b>Absolute difference (first - others)</b></td>\n",
      "<td>%1.2f</td>\n",
      "<td>&nbsp;</td>\n",
      "</tr>\n",
      "<tr>\n",
      "<td><b>Cohen's <i>d</i> (first - others)</b></td>\n",
      "<td>%1.2f</td>\n",
      "<td>&nbsp;</td>\n",
      "</tr>\n",
      "</table>\n",
      "\"\"\" % (live[live.birthord == 1].totalwgt_lb.mean(),\n",
      "       live[live.birthord == 1].totalwgt_lb.std(),\n",
      "       live[live.birthord != 1].totalwgt_lb.mean(),\n",
      "       live[live.birthord != 1].totalwgt_lb.std(),\n",
      "       live[live.birthord == 1].totalwgt_lb.mean() - live[live.birthord != 1].totalwgt_lb.mean(),\n",
      "       thinkstats2.CohenEffectSize(live[live.birthord == 1].totalwgt_lb, live[live.birthord != 1].totalwgt_lb))\n",
      "\n",
      "HTML(summary)"
     ],
     "language": "python",
     "metadata": {},
     "outputs": [
      {
       "html": [
        "\n",
        "<table>\n",
        "<tr>\n",
        "<td><b>Total Weight in Pounds</b></td>\n",
        "<td><b>Mean</b></td>\n",
        "<td><b>Standard Deviation</b></td>\n",
        "</tr>\n",
        "<tr>\n",
        "<td>First live births</td>\n",
        "<td>7.20</td>\n",
        "<td>1.42</td>\n",
        "</tr>\n",
        "<tr>\n",
        "<td>Other live births</td>\n",
        "<td>7.33</td>\n",
        "<td>1.39</td>\n",
        "</tr>\n",
        "<tr>\n",
        "<td><b>Absolute difference (first - others)</b></td>\n",
        "<td>-0.12</td>\n",
        "<td>&nbsp;</td>\n",
        "</tr>\n",
        "<tr>\n",
        "<td><b>Cohen's <i>d</i> (first - others)</b></td>\n",
        "<td>-0.09</td>\n",
        "<td>&nbsp;</td>\n",
        "</tr>\n",
        "</table>\n"
       ],
       "metadata": {},
       "output_type": "pyout",
       "prompt_number": 110,
       "text": [
        "<IPython.core.display.HTML at 0x115919cd0>"
       ]
      }
     ],
     "prompt_number": 110
    },
    {
     "cell_type": "markdown",
     "metadata": {},
     "source": [
      "Conclusions:\n",
      "* First-born babies are indeed lighter than other babies (7.20 lb < 7.33 lb),\n",
      "* There is less variability in total weight between first and other babies (-0.09 standard deviations), than there is in pregnancy length (0.029 standard deviations)"
     ]
    }
   ],
   "metadata": {}
  }
 ]
}